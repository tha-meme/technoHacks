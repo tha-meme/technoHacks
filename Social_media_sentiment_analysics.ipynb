{
  "nbformat": 4,
  "nbformat_minor": 0,
  "metadata": {
    "colab": {
      "provenance": [],
      "authorship_tag": "ABX9TyNMbF0CqfCbuQ58kWnxYx01",
      "include_colab_link": true
    },
    "kernelspec": {
      "name": "python3",
      "display_name": "Python 3"
    },
    "language_info": {
      "name": "python"
    }
  },
  "cells": [
    {
      "cell_type": "markdown",
      "metadata": {
        "id": "view-in-github",
        "colab_type": "text"
      },
      "source": [
        "<a href=\"https://colab.research.google.com/github/tha-meme/technoHacks/blob/main/Social_media_sentiment_analysics.ipynb\" target=\"_parent\"><img src=\"https://colab.research.google.com/assets/colab-badge.svg\" alt=\"Open In Colab\"/></a>"
      ]
    },
    {
      "cell_type": "code",
      "execution_count": 1,
      "metadata": {
        "colab": {
          "base_uri": "https://localhost:8080/"
        },
        "id": "Qu2io4zWSxAA",
        "outputId": "49c3df11-dab5-4e75-c902-9853afb6c708"
      },
      "outputs": [
        {
          "output_type": "stream",
          "name": "stdout",
          "text": [
            "Requirement already satisfied: nltk in /usr/local/lib/python3.10/dist-packages (3.8.1)\n",
            "Requirement already satisfied: click in /usr/local/lib/python3.10/dist-packages (from nltk) (8.1.7)\n",
            "Requirement already satisfied: joblib in /usr/local/lib/python3.10/dist-packages (from nltk) (1.3.2)\n",
            "Requirement already satisfied: regex>=2021.8.3 in /usr/local/lib/python3.10/dist-packages (from nltk) (2023.6.3)\n",
            "Requirement already satisfied: tqdm in /usr/local/lib/python3.10/dist-packages (from nltk) (4.66.1)\n",
            "Collecting vaderSentiment\n",
            "  Downloading vaderSentiment-3.3.2-py2.py3-none-any.whl (125 kB)\n",
            "\u001b[2K     \u001b[90m━━━━━━━━━━━━━━━━━━━━━━━━━━━━━━━━━━━━━━━\u001b[0m \u001b[32m126.0/126.0 kB\u001b[0m \u001b[31m2.7 MB/s\u001b[0m eta \u001b[36m0:00:00\u001b[0m\n",
            "\u001b[?25hRequirement already satisfied: requests in /usr/local/lib/python3.10/dist-packages (from vaderSentiment) (2.31.0)\n",
            "Requirement already satisfied: charset-normalizer<4,>=2 in /usr/local/lib/python3.10/dist-packages (from requests->vaderSentiment) (3.2.0)\n",
            "Requirement already satisfied: idna<4,>=2.5 in /usr/local/lib/python3.10/dist-packages (from requests->vaderSentiment) (3.4)\n",
            "Requirement already satisfied: urllib3<3,>=1.21.1 in /usr/local/lib/python3.10/dist-packages (from requests->vaderSentiment) (2.0.4)\n",
            "Requirement already satisfied: certifi>=2017.4.17 in /usr/local/lib/python3.10/dist-packages (from requests->vaderSentiment) (2023.7.22)\n",
            "Installing collected packages: vaderSentiment\n",
            "Successfully installed vaderSentiment-3.3.2\n"
          ]
        }
      ],
      "source": [
        "\n",
        "!pip install nltk\n",
        "!pip install vaderSentiment"
      ]
    },
    {
      "cell_type": "code",
      "source": [
        "\n",
        "import nltk\n",
        "from nltk.sentiment.vader import SentimentIntensityAnalyzer\n"
      ],
      "metadata": {
        "id": "Jlye0hocTLX5"
      },
      "execution_count": 3,
      "outputs": []
    },
    {
      "cell_type": "code",
      "source": [
        "nltk.download('vader_lexicon')\n"
      ],
      "metadata": {
        "colab": {
          "base_uri": "https://localhost:8080/"
        },
        "id": "043r4j4wTixG",
        "outputId": "38cd767b-4f1a-4eef-b6ce-78446b1f9667"
      },
      "execution_count": 4,
      "outputs": [
        {
          "output_type": "stream",
          "name": "stderr",
          "text": [
            "[nltk_data] Downloading package vader_lexicon to /root/nltk_data...\n"
          ]
        },
        {
          "output_type": "execute_result",
          "data": {
            "text/plain": [
              "True"
            ]
          },
          "metadata": {},
          "execution_count": 4
        }
      ]
    },
    {
      "cell_type": "code",
      "source": [
        "import pandas as pd\n",
        "data=pd.read_csv(\"Tweets.csv\")"
      ],
      "metadata": {
        "id": "_gt37QyWTpG2"
      },
      "execution_count": 5,
      "outputs": []
    },
    {
      "cell_type": "code",
      "source": [
        "\n",
        "data.head()\n",
        "sia = SentimentIntensityAnalyzer()"
      ],
      "metadata": {
        "id": "Nx-Rj5mETuvG"
      },
      "execution_count": 6,
      "outputs": []
    },
    {
      "cell_type": "code",
      "source": [
        "\n",
        "def classify_sentiment(compound_score):\n",
        "    if compound_score > 0.05:\n",
        "        return 'positive'\n",
        "    elif compound_score < -0.05:\n",
        "        return 'negative'\n",
        "    else:\n",
        "        return 'neutral'"
      ],
      "metadata": {
        "id": "fj9praqzXK0G"
      },
      "execution_count": 7,
      "outputs": []
    },
    {
      "cell_type": "code",
      "source": [
        "data['sentiment_scores'] = data['text'].apply(lambda x: sia.polarity_scores(x))\n",
        "data['compound_score'] = data['sentiment_scores'].apply(lambda x: x['compound'])\n",
        "data['sentiment'] = data['compound_score'].apply(classify_sentiment)\n"
      ],
      "metadata": {
        "id": "brfMqimVXXLE"
      },
      "execution_count": 8,
      "outputs": []
    },
    {
      "cell_type": "code",
      "source": [
        "\n",
        "print(data[['text', 'sentiment']])\n",
        "\n"
      ],
      "metadata": {
        "colab": {
          "base_uri": "https://localhost:8080/"
        },
        "id": "CGWUVLrSXZ-p",
        "outputId": "60583584-2b7b-40a0-9bb6-9d54d21c2269"
      },
      "execution_count": 9,
      "outputs": [
        {
          "output_type": "stream",
          "name": "stdout",
          "text": [
            "                                                    text sentiment\n",
            "0                    @VirginAmerica What @dhepburn said.   neutral\n",
            "1      @VirginAmerica plus you've added commercials t...   neutral\n",
            "2      @VirginAmerica I didn't today... Must mean I n...   neutral\n",
            "3      @VirginAmerica it's really aggressive to blast...  negative\n",
            "4      @VirginAmerica and it's a really big bad thing...  negative\n",
            "...                                                  ...       ...\n",
            "14635  @AmericanAir thank you we got on a different f...  positive\n",
            "14636  @AmericanAir leaving over 20 minutes Late Flig...  negative\n",
            "14637  @AmericanAir Please bring American Airlines to...  positive\n",
            "14638  @AmericanAir you have my money, you change my ...  positive\n",
            "14639  @AmericanAir we have 8 ppl so we need 2 know h...  positive\n",
            "\n",
            "[14640 rows x 2 columns]\n"
          ]
        }
      ]
    },
    {
      "cell_type": "code",
      "source": [
        "while True:\n",
        "    user_input = input(\"Enter a text: \")\n",
        "\n",
        "    sentiment_scores = sia.polarity_scores(user_input)\n",
        "    compound_score = sentiment_scores['compound']\n",
        "    sentiment = classify_sentiment(compound_score)\n",
        "\n",
        "    print(f\"Predicted sentiment: {sentiment}\")\n",
        "\n",
        "    continue_prompt = input(\"Do you want to continue? (yes/no): \")\n",
        "    if continue_prompt.lower() != 'yes':\n",
        "        break"
      ],
      "metadata": {
        "colab": {
          "base_uri": "https://localhost:8080/"
        },
        "id": "VVDKFiu5XcSq",
        "outputId": "cebfe173-540f-42cb-e309-db43671ce183"
      },
      "execution_count": 12,
      "outputs": [
        {
          "name": "stdout",
          "output_type": "stream",
          "text": [
            "Enter a text: how are you doing?\n",
            "Predicted sentiment: neutral\n",
            "Do you want to continue? (yes/no): yes\n",
            "Enter a text: happy\n",
            "Predicted sentiment: positive\n",
            "Do you want to continue? (yes/no): yes\n",
            "Enter a text: sad\n",
            "Predicted sentiment: negative\n",
            "Do you want to continue? (yes/no): no\n"
          ]
        }
      ]
    },
    {
      "cell_type": "code",
      "source": [],
      "metadata": {
        "id": "PBD7ZGSzXi-d"
      },
      "execution_count": null,
      "outputs": []
    }
  ]
}